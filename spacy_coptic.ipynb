{
  "nbformat":4,
  "nbformat_minor":0,
  "metadata":{
    "colab":{ "name":"spaCy-Coptic on Google Colaboratory" },
    "kernelspec":{ "name":"python3" }
  },
  "cells":[
    {
      "cell_type":"markdown",
      "metadata":{ "colab_type":"text" },
      "source":[
        "# [spaCy-Coptic](https://github.com/KoichiYasuoka/spaCy-Coptic) on Google Colaboratory"
      ]
    },
    {
      "cell_type":"code",
      "metadata":{ "colab_type":"code" },
      "source":[
        "!apt install foma-bin\n",
        "!pip install 'scikit-learn<0.23' 'xgboost<1'\n",
        "!test -d coptic-nlp || git clone --depth=1 https://github.com/CopticScriptorium/coptic-nlp\n",
        "!cd coptic-nlp && test -f bin/foma/foma || ( ln -s /usr/bin/foma /usr/bin/flookup bin/foma ; ln -s . coptic-nlp ; echo Y | python coptic_nlp.py -penmult - )\n",
        "!pip install spacy_coptic\n",
        "%cd coptic-nlp\n",
        "import spacy_coptic\n",
        "from coptic_nlp import nlp_coptic\n",
        "nlp=spacy_coptic.load(nlp_coptic)\n",
        "doc=nlp(\"ⲙⲟⲟϣⲉ ϩⲱⲥ ϣⲏⲣⲉ ⲙ̄ⲡⲟⲩⲟⲉⲓⲛ\")\n",
        "import deplacy\n",
        "deplacy.render(doc,WordRight=True)\n",
        "deplacy.serve(doc,port=None)\n",
        "# import graphviz\n",
        "# graphviz.Source(deplacy.dot(doc))"
      ],
      "outputs":[
        {
          "output_type":"stream",
          "text":[
            " ROOT ╔═════════ VERB  ⲙⲟⲟϣⲉ\n",
            " mark ║ ╔══════> CCONJ ϩⲱⲥ\n",
            "advcl ╚>╚═╔═════ NOUN  ϣⲏⲣⲉ\n",
            " case     ║ ╔══> ADP   ⲙ̄\n",
            "  det     ║ ║ ╔> DET   ⲡ\n",
            " nmod     ╚>╚═╚═ NOUN  ⲟⲩⲟⲉⲓⲛ\n",
            "\n"
          ]
        },
        {
          "output_type":"display_data",
          "data":{
            "text/html":[
              "<iframe width=\"100%\" height=\"400\" src=\"https://koichiyasuoka.github.io/deplacy/deplacy/editor.html#1%09%E2%B2%99%E2%B2%9F%E2%B2%9F%CF%A3%E2%B2%89%09%E2%B2%99%E2%B2%9F%E2%B2%9F%CF%A3%E2%B2%89%09VERB%09V%09_%090%09ROOT%09_%09_%0A2%09%CF%A9%E2%B2%B1%E2%B2%A5%09%CF%A9%E2%B2%B1%E2%B2%A5%09CCONJ%09CONJ%09_%093%09mark%09_%09_%0A3%09%CF%A3%E2%B2%8F%E2%B2%A3%E2%B2%89%09%CF%A3%E2%B2%8F%E2%B2%A3%E2%B2%89%09NOUN%09N%09_%091%09advcl%09_%09_%0A4%09%E2%B2%99%CC%84%09%E2%B2%9B%09ADP%09PREP%09_%096%09case%09_%09SpaceAfter%3DNo%0A5%09%E2%B2%A1%09%E2%B2%A1%09DET%09ART%09_%096%09det%09_%09SpaceAfter%3DNo%0A6%09%E2%B2%9F%E2%B2%A9%E2%B2%9F%E2%B2%89%E2%B2%93%E2%B2%9B%09%E2%B2%9F%E2%B2%A9%E2%B2%9F%E2%B2%89%E2%B2%93%E2%B2%9B%09NOUN%09N%09_%093%09nmod%09_%09_%0A%0A\" frameborder=\"0\" allowfullscreen></iframe>\n"
            ]
          }
        }
      ]
    }
  ]
}
